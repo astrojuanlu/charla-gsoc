{
 "cells": [
  {
   "cell_type": "markdown",
   "metadata": {
    "slideshow": {
     "slide_type": "slide"
    }
   },
   "source": [
    "# Google Summer of Code para estudiantes de ingeniería"
   ]
  },
  {
   "cell_type": "markdown",
   "metadata": {
    "slideshow": {
     "slide_type": "slide"
    }
   },
   "source": [
    "## Un día típico para un/una estudiante del GSoC\n",
    "\n",
    "<div align=\"center\">\n",
    "    <img src=\"img/coding_girl.png\">\n",
    "</div>"
   ]
  },
  {
   "cell_type": "markdown",
   "metadata": {
    "slideshow": {
     "slide_type": "slide"
    }
   },
   "source": [
    "### Trabajando en el tema propuesto\n",
    "\n",
    "Una vez aceptado/a como estudiante, deberás **trabajar dentro del tema que has propuesto**. Algunos ejemplos de años anteriores son:"
   ]
  },
  {
   "cell_type": "markdown",
   "metadata": {
    "slideshow": {
     "slide_type": "fragment"
    }
   },
   "source": [
    "* **Earth specific capabilities**: nuevos propagadores, mejores modelos gravitacionales, detección de eventos...\n",
    "\n",
    "* **poliastro as a web service**: para poder utilizar poliastro sin necesidad de instalar nada, solo usando la web."
   ]
  },
  {
   "cell_type": "markdown",
   "metadata": {
    "slideshow": {
     "slide_type": "fragment"
    }
   },
   "source": [
    "¡También puedes proponer tu propio tema! En ese caso, lo mejor es contactar previamente con los mentores.\n",
    "\n",
    "<div align=\"center\">\n",
    "    <img src=\"img/bulb.gif\" width=100px;>\n",
    "</div>"
   ]
  },
  {
   "cell_type": "markdown",
   "metadata": {
    "slideshow": {
     "slide_type": "slide"
    }
   },
   "source": [
    "### El flujo de trabajo\n",
    "\n",
    "El mismo que sigue cualquier otra persona para contribuir al proyecto:"
   ]
  },
  {
   "cell_type": "markdown",
   "metadata": {
    "slideshow": {
     "slide_type": "fragment"
    }
   },
   "source": [
    "* Elegir un issue del tablón oficial: https://github.com/poliastro/poliastro/issues"
   ]
  },
  {
   "cell_type": "markdown",
   "metadata": {
    "slideshow": {
     "slide_type": "fragment"
    }
   },
   "source": [
    "* Encontrar la solución al problema."
   ]
  },
  {
   "cell_type": "markdown",
   "metadata": {
    "slideshow": {
     "slide_type": "fragment"
    }
   },
   "source": [
    "* Programarla, testearla y documentarla."
   ]
  },
  {
   "cell_type": "markdown",
   "metadata": {
    "slideshow": {
     "slide_type": "fragment"
    }
   },
   "source": [
    "* Subir los cambios y esperar una revisión del código."
   ]
  },
  {
   "cell_type": "markdown",
   "metadata": {
    "slideshow": {
     "slide_type": "fragment"
    }
   },
   "source": [
    "* ¡Enhorabuena, tu código has sido añadido!"
   ]
  },
  {
   "cell_type": "markdown",
   "metadata": {
    "slideshow": {
     "slide_type": "fragment"
    }
   },
   "source": [
    "Veamos un ejemplo real de todo lo anterior...\n",
    "\n",
    "<div align=\"center\">\n",
    "    <img src=\"img/workflow.png\" width=150px;>\n",
    "</div>"
   ]
  },
  {
   "cell_type": "markdown",
   "metadata": {
    "slideshow": {
     "slide_type": "slide"
    }
   },
   "source": [
    "#### El problema o ''issue''\n",
    "\n",
    "Un usuario de poliastro estaba trabajando con órbitas teniendo en cuenta el rozamiento con el aire, pero **los resultados de poliastro no encajaban con los reales.** Enalce al issue: https://github.com/poliastro/poliastro/issues/694"
   ]
  },
  {
   "cell_type": "markdown",
   "metadata": {
    "slideshow": {
     "slide_type": "fragment"
    }
   },
   "source": [
    "<div align=\"center\">\n",
    "    <img src=\"img/expected_orbital_decay.png\">\n",
    "</div>"
   ]
  },
  {
   "cell_type": "markdown",
   "metadata": {
    "slideshow": {
     "slide_type": "slide"
    }
   },
   "source": [
    "#### Buscando la solución\n",
    "\n",
    "La aceleración del rozamiento con el aire se calcula como:"
   ]
  },
  {
   "cell_type": "markdown",
   "metadata": {
    "slideshow": {
     "slide_type": "fragment"
    }
   },
   "source": [
    "$$\\vec{a_{d}} = - \\frac{1}{2} \\rho(h) v \\frac{S}{m} C_{D} \\vec{v}$$"
   ]
  },
  {
   "cell_type": "markdown",
   "metadata": {
    "slideshow": {
     "slide_type": "fragment"
    }
   },
   "source": [
    "¡El modelo atmosférico para calcular la densidad $\\rho(h)$ era demasiado sencillo! Había que implementar uno más preciso...\n",
    "\n",
    "* U.S. Standard Atmosphere 1976 model: https://ntrs.nasa.gov/citations/19770009539\n",
    "\n",
    "Este objetivo (junto con otros) fue recogido en la propuesta presentada por un estudiante para el GSoC."
   ]
  },
  {
   "cell_type": "markdown",
   "metadata": {
    "slideshow": {
     "slide_type": "slide"
    }
   },
   "source": [
    "#### Programando la solución, testeando y documentando\n",
    "\n",
    "Una comparativa entre el modelo original (el que producía el error) y el nuevo modelo COESA76:"
   ]
  },
  {
   "cell_type": "markdown",
   "metadata": {
    "slideshow": {
     "slide_type": "fragment"
    }
   },
   "source": [
    "<div align=\"center\">\n",
    "    <img src=\"img/rho_comparison.png\">\n",
    "</div>"
   ]
  },
  {
   "cell_type": "markdown",
   "metadata": {
    "slideshow": {
     "slide_type": "fragment"
    }
   },
   "source": [
    "* Modelo exponencial --> densidad menor que la real --> las órbitas no perdían altitud\n",
    "* Modelo COESA76 --> densidad bien calculada --> las órbitas decaen tal y como se espera"
   ]
  },
  {
   "cell_type": "markdown",
   "metadata": {
    "slideshow": {
     "slide_type": "slide"
    }
   },
   "source": [
    "#### Subiendo los cambios y revisión de código\n",
    "\n",
    "Se abre un \"pull request\" para \"mergear\" (incluir) los cambios en el código principal y solventar el error.\n",
    "\n",
    "* Enalce al pull request: https://github.com/poliastro/poliastro/pull/738"
   ]
  },
  {
   "cell_type": "markdown",
   "metadata": {
    "slideshow": {
     "slide_type": "fragment"
    }
   },
   "source": [
    "Los desarrolladores revisan el código en busca de:\n",
    "\n",
    "* Código que se lea con mucha dificultad y pueda ser simplificado.\n",
    "* Líneas de código con bajo rendimiento.\n",
    "* Cualquier otro problema similar."
   ]
  },
  {
   "cell_type": "markdown",
   "metadata": {
    "slideshow": {
     "slide_type": "fragment"
    }
   },
   "source": [
    "Una vez dados los últimos retoques, el código se fusiona con el principal. ¡Tus cambios han sido incluídos!\n",
    "\n",
    "<div align=\"center\">\n",
    "    <img src=\"img/celebrate.png\" width=150px>\n",
    "</div>"
   ]
  },
  {
   "cell_type": "markdown",
   "metadata": {
    "slideshow": {
     "slide_type": "slide"
    }
   },
   "source": [
    "## Consejos para empezar\n",
    "\n",
    "\n",
    "<div align=\"center\">\n",
    "    <img src=\"img/matrix.gif\" width=450px>\n",
    "</div>"
   ]
  },
  {
   "cell_type": "markdown",
   "metadata": {
    "slideshow": {
     "slide_type": "slide"
    }
   },
   "source": [
    "### ¡Empieza ya!\n",
    "\n",
    "Nadie nace sabiendo, así que no tengas vergüenza a la hora de preguntar cualquier duda. La comunidad estará ahí para echarte un cable con todo lo que pueda y cuando le sea posible:"
   ]
  },
  {
   "cell_type": "markdown",
   "metadata": {
    "slideshow": {
     "slide_type": "fragment"
    }
   },
   "source": [
    "* Chat oficial: http://chat.poliastro.space/\n",
    "* Lista de correo: https://groups.io/g/poliastro-dev"
   ]
  },
  {
   "cell_type": "markdown",
   "metadata": {
    "slideshow": {
     "slide_type": "fragment"
    }
   },
   "source": [
    "Lleva cierto tiempo crear un entorno de desarrollo y aprender el flujo de trabajo, pero una vez aprendido, ¡te servirá para cualquier proyecto!"
   ]
  },
  {
   "cell_type": "markdown",
   "metadata": {
    "slideshow": {
     "slide_type": "fragment"
    }
   },
   "source": [
    "¡Ah! Y no olvides las normas de conducta:\n",
    "\n",
    "* Código de conducta: https://github.com/poliastro/poliastro/blob/master/CODE_OF_CONDUCT.md\n",
    "\n",
    "<div align=\"center\">\n",
    "    <img src=\"img/people.png\" width=150px>\n",
    "</div>"
   ]
  },
  {
   "cell_type": "markdown",
   "metadata": {
    "slideshow": {
     "slide_type": "slide"
    }
   },
   "source": [
    "### La documentación oficial del proyecto\n",
    "\n",
    "Para poder contribuir a un proyecto hay que saber cómo se utiliza y qué limitaciones tiene. Afortunadamente, poliastro tiene una gran colección de tutoriales y otros recursos:\n",
    "\n",
    "* Tutoriales: https://docs.poliastro.space/en/latest/gallery.html\n",
    "* Guía para usuarios: https://docs.poliastro.space/en/latest/user_guide.html\n",
    "* Nuevos desarrolladores: https://docs.poliastro.space/en/latest/contributing.html"
   ]
  },
  {
   "cell_type": "markdown",
   "metadata": {
    "slideshow": {
     "slide_type": "fragment"
    }
   },
   "source": [
    "También es importante estar familiarizado con problemas clásicos de mecánica orbital. Algunos libros útiles para aprender:\n",
    "\n",
    "* Bibliografía: https://docs.poliastro.space/en/latest/bibliography.html#books-and-papers\n",
    "\n",
    "<div align=\"center\">\n",
    "    <img src=\"img/books.png\" width=350px>\n",
    "</div>"
   ]
  },
  {
   "cell_type": "markdown",
   "metadata": {
    "slideshow": {
     "slide_type": "fragment"
    }
   },
   "source": [
    "¡Mejorar la documentación también es una forma de contribuir al proyecto!"
   ]
  }
 ],
 "metadata": {
  "celltoolbar": "Slideshow",
  "kernelspec": {
   "display_name": "Python 3",
   "language": "python",
   "name": "python3"
  },
  "language_info": {
   "codemirror_mode": {
    "name": "ipython",
    "version": 3
   },
   "file_extension": ".py",
   "mimetype": "text/x-python",
   "name": "python",
   "nbconvert_exporter": "python",
   "pygments_lexer": "ipython3",
   "version": "3.9.1"
  }
 },
 "nbformat": 4,
 "nbformat_minor": 4
}
